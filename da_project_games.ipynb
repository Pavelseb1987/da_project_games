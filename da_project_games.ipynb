{
 "cells": [
  {
   "cell_type": "markdown",
   "id": "e06910dd",
   "metadata": {
    "id": "e06910dd"
   },
   "source": [
    "# Проект. Изучение развития игровой индустрии.\n",
    "\n",
    "- Автор: Павел Олегович Г.\n",
    "- Дата: 06.05.2025"
   ]
  },
  {
   "cell_type": "markdown",
   "id": "4149134c",
   "metadata": {
    "id": "4149134c"
   },
   "source": [
    "### Цели и задачи проекта\n",
    "Наша задача — изучить данные, предобработать, получить необходимый срез данных.\\\n",
    "Необходимо отфильтровать и категорировать данные, выполнить отбор популярных платформ."
   ]
  },
  {
   "cell_type": "markdown",
   "id": "728986ea",
   "metadata": {
    "id": "728986ea"
   },
   "source": [
    "### Описание данных\n",
    "Данные содержат информацию о продажах игр разных жанров и платформ, а также пользовательские и экспертные оценки игр:\\\n",
    "**Name** — название игры.\\\n",
    "**Platform** — название платформы.\\\n",
    "**Year of Release** — год выпуска игры.\\\n",
    "**Genre** — жанр игры.\\\n",
    "**NA sales** — продажи в Северной Америке (в миллионах проданных копий).\\\n",
    "**EU sales** — продажи в Европе (в миллионах проданных копий).\\\n",
    "**JP sales** — продажи в Японии (в миллионах проданных копий).\\\n",
    "**Other sales** — продажи в других странах (в миллионах проданных копий).\\\n",
    "**Critic Score** — оценка критиков (от 0 до 100).\\\n",
    "**User Score** — оценка пользователей (от 0 до 10).\\\n",
    "**Rating** — рейтинг организации ESRB (англ. Entertainment Software Rating Board).\\\n",
    "Эта ассоциация определяет рейтинг компьютерных игр и присваивает им подходящую возрастную категорию."
   ]
  },
  {
   "cell_type": "markdown",
   "id": "4fecaf95",
   "metadata": {
    "id": "4fecaf95"
   },
   "source": [
    "### Содержимое проекта\n",
    "1. Загрузка данных, ознакомление с данными\n",
    "2. Предобработка данных: \n",
    "    - Поиск и обработка пропущенных значений\n",
    "    - Проверка и корректировка типов данных\n",
    "    - Проверка наличия и обработка дубликатов\n",
    "3. Фильтрация данных\n",
    "4. Категоризация данных\n",
    "\n",
    "---"
   ]
  },
  {
   "cell_type": "markdown",
   "id": "6f7d21d6",
   "metadata": {
    "id": "6f7d21d6"
   },
   "source": [
    "## 1. Загрузка данных и знакомство с ними\n",
    "\n",
    "- Загружаем необходимые библиотеки Python и данные датасета `new_games.csv`.\n"
   ]
  },
  {
   "cell_type": "code",
   "execution_count": 1,
   "id": "ebb66dc5",
   "metadata": {
    "id": "ebb66dc5",
    "trusted": false
   },
   "outputs": [],
   "source": [
    "# Импортируем библиотеку pandas\n",
    "import pandas as pd\n",
    "import warnings\n",
    "warnings.filterwarnings('ignore')"
   ]
  },
  {
   "cell_type": "code",
   "execution_count": null,
   "id": "ce87c1db",
   "metadata": {
    "id": "ce87c1db",
    "trusted": false
   },
   "outputs": [
    {
     "data": {
      "text/html": [
       "<div>\n",
       "<style scoped>\n",
       "    .dataframe tbody tr th:only-of-type {\n",
       "        vertical-align: middle;\n",
       "    }\n",
       "\n",
       "    .dataframe tbody tr th {\n",
       "        vertical-align: top;\n",
       "    }\n",
       "\n",
       "    .dataframe thead th {\n",
       "        text-align: right;\n",
       "    }\n",
       "</style>\n",
       "<table border=\"1\" class=\"dataframe\">\n",
       "  <thead>\n",
       "    <tr style=\"text-align: right;\">\n",
       "      <th></th>\n",
       "      <th>Name</th>\n",
       "      <th>Platform</th>\n",
       "      <th>Year of Release</th>\n",
       "      <th>Genre</th>\n",
       "      <th>NA sales</th>\n",
       "      <th>EU sales</th>\n",
       "      <th>JP sales</th>\n",
       "      <th>Other sales</th>\n",
       "      <th>Critic Score</th>\n",
       "      <th>User Score</th>\n",
       "      <th>Rating</th>\n",
       "    </tr>\n",
       "  </thead>\n",
       "  <tbody>\n",
       "    <tr>\n",
       "      <th>0</th>\n",
       "      <td>Wii Sports</td>\n",
       "      <td>Wii</td>\n",
       "      <td>2006.0</td>\n",
       "      <td>Sports</td>\n",
       "      <td>41.36</td>\n",
       "      <td>28.96</td>\n",
       "      <td>3.77</td>\n",
       "      <td>8.45</td>\n",
       "      <td>76.0</td>\n",
       "      <td>8</td>\n",
       "      <td>E</td>\n",
       "    </tr>\n",
       "    <tr>\n",
       "      <th>1</th>\n",
       "      <td>Super Mario Bros.</td>\n",
       "      <td>NES</td>\n",
       "      <td>1985.0</td>\n",
       "      <td>Platform</td>\n",
       "      <td>29.08</td>\n",
       "      <td>3.58</td>\n",
       "      <td>6.81</td>\n",
       "      <td>0.77</td>\n",
       "      <td>NaN</td>\n",
       "      <td>NaN</td>\n",
       "      <td>NaN</td>\n",
       "    </tr>\n",
       "    <tr>\n",
       "      <th>2</th>\n",
       "      <td>Mario Kart Wii</td>\n",
       "      <td>Wii</td>\n",
       "      <td>2008.0</td>\n",
       "      <td>Racing</td>\n",
       "      <td>15.68</td>\n",
       "      <td>12.76</td>\n",
       "      <td>3.79</td>\n",
       "      <td>3.29</td>\n",
       "      <td>82.0</td>\n",
       "      <td>8.3</td>\n",
       "      <td>E</td>\n",
       "    </tr>\n",
       "    <tr>\n",
       "      <th>3</th>\n",
       "      <td>Wii Sports Resort</td>\n",
       "      <td>Wii</td>\n",
       "      <td>2009.0</td>\n",
       "      <td>Sports</td>\n",
       "      <td>15.61</td>\n",
       "      <td>10.93</td>\n",
       "      <td>3.28</td>\n",
       "      <td>2.95</td>\n",
       "      <td>80.0</td>\n",
       "      <td>8</td>\n",
       "      <td>E</td>\n",
       "    </tr>\n",
       "    <tr>\n",
       "      <th>4</th>\n",
       "      <td>Pokemon Red/Pokemon Blue</td>\n",
       "      <td>GB</td>\n",
       "      <td>1996.0</td>\n",
       "      <td>Role-Playing</td>\n",
       "      <td>11.27</td>\n",
       "      <td>8.89</td>\n",
       "      <td>10.22</td>\n",
       "      <td>1.00</td>\n",
       "      <td>NaN</td>\n",
       "      <td>NaN</td>\n",
       "      <td>NaN</td>\n",
       "    </tr>\n",
       "    <tr>\n",
       "      <th>...</th>\n",
       "      <td>...</td>\n",
       "      <td>...</td>\n",
       "      <td>...</td>\n",
       "      <td>...</td>\n",
       "      <td>...</td>\n",
       "      <td>...</td>\n",
       "      <td>...</td>\n",
       "      <td>...</td>\n",
       "      <td>...</td>\n",
       "      <td>...</td>\n",
       "      <td>...</td>\n",
       "    </tr>\n",
       "    <tr>\n",
       "      <th>16951</th>\n",
       "      <td>Samurai Warriors: Sanada Maru</td>\n",
       "      <td>PS3</td>\n",
       "      <td>2016.0</td>\n",
       "      <td>Action</td>\n",
       "      <td>0.00</td>\n",
       "      <td>0.0</td>\n",
       "      <td>0.01</td>\n",
       "      <td>0.00</td>\n",
       "      <td>NaN</td>\n",
       "      <td>NaN</td>\n",
       "      <td>NaN</td>\n",
       "    </tr>\n",
       "    <tr>\n",
       "      <th>16952</th>\n",
       "      <td>LMA Manager 2007</td>\n",
       "      <td>X360</td>\n",
       "      <td>2006.0</td>\n",
       "      <td>Sports</td>\n",
       "      <td>0.00</td>\n",
       "      <td>0.01</td>\n",
       "      <td>0.0</td>\n",
       "      <td>0.00</td>\n",
       "      <td>NaN</td>\n",
       "      <td>NaN</td>\n",
       "      <td>NaN</td>\n",
       "    </tr>\n",
       "    <tr>\n",
       "      <th>16953</th>\n",
       "      <td>Haitaka no Psychedelica</td>\n",
       "      <td>PSV</td>\n",
       "      <td>2016.0</td>\n",
       "      <td>Adventure</td>\n",
       "      <td>0.00</td>\n",
       "      <td>0.0</td>\n",
       "      <td>0.01</td>\n",
       "      <td>0.00</td>\n",
       "      <td>NaN</td>\n",
       "      <td>NaN</td>\n",
       "      <td>NaN</td>\n",
       "    </tr>\n",
       "    <tr>\n",
       "      <th>16954</th>\n",
       "      <td>Spirits &amp; Spells</td>\n",
       "      <td>GBA</td>\n",
       "      <td>2003.0</td>\n",
       "      <td>Platform</td>\n",
       "      <td>0.01</td>\n",
       "      <td>0.0</td>\n",
       "      <td>0.0</td>\n",
       "      <td>0.00</td>\n",
       "      <td>NaN</td>\n",
       "      <td>NaN</td>\n",
       "      <td>NaN</td>\n",
       "    </tr>\n",
       "    <tr>\n",
       "      <th>16955</th>\n",
       "      <td>Winning Post 8 2016</td>\n",
       "      <td>PSV</td>\n",
       "      <td>2016.0</td>\n",
       "      <td>Simulation</td>\n",
       "      <td>0.00</td>\n",
       "      <td>0.0</td>\n",
       "      <td>0.01</td>\n",
       "      <td>0.00</td>\n",
       "      <td>NaN</td>\n",
       "      <td>NaN</td>\n",
       "      <td>NaN</td>\n",
       "    </tr>\n",
       "  </tbody>\n",
       "</table>\n",
       "<p>16956 rows × 11 columns</p>\n",
       "</div>"
      ],
      "text/plain": [
       "                                Name Platform  Year of Release         Genre  \\\n",
       "0                         Wii Sports      Wii           2006.0        Sports   \n",
       "1                  Super Mario Bros.      NES           1985.0      Platform   \n",
       "2                     Mario Kart Wii      Wii           2008.0        Racing   \n",
       "3                  Wii Sports Resort      Wii           2009.0        Sports   \n",
       "4           Pokemon Red/Pokemon Blue       GB           1996.0  Role-Playing   \n",
       "...                              ...      ...              ...           ...   \n",
       "16951  Samurai Warriors: Sanada Maru      PS3           2016.0        Action   \n",
       "16952               LMA Manager 2007     X360           2006.0        Sports   \n",
       "16953        Haitaka no Psychedelica      PSV           2016.0     Adventure   \n",
       "16954               Spirits & Spells      GBA           2003.0      Platform   \n",
       "16955            Winning Post 8 2016      PSV           2016.0    Simulation   \n",
       "\n",
       "       NA sales EU sales JP sales  Other sales  Critic Score User Score Rating  \n",
       "0         41.36    28.96     3.77         8.45          76.0          8      E  \n",
       "1         29.08     3.58     6.81         0.77           NaN        NaN    NaN  \n",
       "2         15.68    12.76     3.79         3.29          82.0        8.3      E  \n",
       "3         15.61    10.93     3.28         2.95          80.0          8      E  \n",
       "4         11.27     8.89    10.22         1.00           NaN        NaN    NaN  \n",
       "...         ...      ...      ...          ...           ...        ...    ...  \n",
       "16951      0.00      0.0     0.01         0.00           NaN        NaN    NaN  \n",
       "16952      0.00     0.01      0.0         0.00           NaN        NaN    NaN  \n",
       "16953      0.00      0.0     0.01         0.00           NaN        NaN    NaN  \n",
       "16954      0.01      0.0      0.0         0.00           NaN        NaN    NaN  \n",
       "16955      0.00      0.0     0.01         0.00           NaN        NaN    NaN  \n",
       "\n",
       "[16956 rows x 11 columns]"
      ]
     },
     "metadata": {},
     "output_type": "display_data"
    }
   ],
   "source": [
    "# Выгружаем данные из датасета `new_games.csv` в датафрейм 'df'\n",
    "# Локальный путь:\n",
    "# df = pd.read_csv(\"/Users/pavelolegovich/Desktop/DATA_PR_7/new_games.csv\")\n",
    "\n",
    "# Ссылка для ревью:\n",
    "df = pd.read_csv('https://code.s3.yandex.net/datasets/new_games.csv')\n",
    "display(df)"
   ]
  },
  {
   "cell_type": "markdown",
   "id": "e0a8705f",
   "metadata": {
    "id": "e0a8705f"
   },
   "source": [
    "- Познакомьтесь с данными: выведите первые строки и результат метода `info()`.\n"
   ]
  },
  {
   "cell_type": "code",
   "execution_count": 3,
   "id": "3937acf7",
   "metadata": {
    "id": "3937acf7",
    "trusted": false
   },
   "outputs": [
    {
     "name": "stdout",
     "output_type": "stream",
     "text": [
      "<class 'pandas.core.frame.DataFrame'>\n",
      "RangeIndex: 16956 entries, 0 to 16955\n",
      "Data columns (total 11 columns):\n",
      " #   Column           Non-Null Count  Dtype  \n",
      "---  ------           --------------  -----  \n",
      " 0   Name             16954 non-null  object \n",
      " 1   Platform         16956 non-null  object \n",
      " 2   Year of Release  16681 non-null  float64\n",
      " 3   Genre            16954 non-null  object \n",
      " 4   NA sales         16956 non-null  float64\n",
      " 5   EU sales         16956 non-null  object \n",
      " 6   JP sales         16956 non-null  object \n",
      " 7   Other sales      16956 non-null  float64\n",
      " 8   Critic Score     8242 non-null   float64\n",
      " 9   User Score       10152 non-null  object \n",
      " 10  Rating           10085 non-null  object \n",
      "dtypes: float64(4), object(7)\n",
      "memory usage: 1.4+ MB\n"
     ]
    },
    {
     "data": {
      "text/plain": [
       "None"
      ]
     },
     "metadata": {},
     "output_type": "display_data"
    }
   ],
   "source": [
    "# Выводим информацию о датафрейме\n",
    "display(df.info())"
   ]
  },
  {
   "cell_type": "code",
   "execution_count": 4,
   "id": "d7c8eb4b",
   "metadata": {
    "id": "d7c8eb4b",
    "trusted": false
   },
   "outputs": [
    {
     "data": {
      "text/html": [
       "<div>\n",
       "<style scoped>\n",
       "    .dataframe tbody tr th:only-of-type {\n",
       "        vertical-align: middle;\n",
       "    }\n",
       "\n",
       "    .dataframe tbody tr th {\n",
       "        vertical-align: top;\n",
       "    }\n",
       "\n",
       "    .dataframe thead th {\n",
       "        text-align: right;\n",
       "    }\n",
       "</style>\n",
       "<table border=\"1\" class=\"dataframe\">\n",
       "  <thead>\n",
       "    <tr style=\"text-align: right;\">\n",
       "      <th></th>\n",
       "      <th>Name</th>\n",
       "      <th>Platform</th>\n",
       "      <th>Year of Release</th>\n",
       "      <th>Genre</th>\n",
       "      <th>NA sales</th>\n",
       "      <th>EU sales</th>\n",
       "      <th>JP sales</th>\n",
       "      <th>Other sales</th>\n",
       "      <th>Critic Score</th>\n",
       "      <th>User Score</th>\n",
       "      <th>Rating</th>\n",
       "    </tr>\n",
       "  </thead>\n",
       "  <tbody>\n",
       "    <tr>\n",
       "      <th>0</th>\n",
       "      <td>Wii Sports</td>\n",
       "      <td>Wii</td>\n",
       "      <td>2006.0</td>\n",
       "      <td>Sports</td>\n",
       "      <td>41.36</td>\n",
       "      <td>28.96</td>\n",
       "      <td>3.77</td>\n",
       "      <td>8.45</td>\n",
       "      <td>76.0</td>\n",
       "      <td>8</td>\n",
       "      <td>E</td>\n",
       "    </tr>\n",
       "    <tr>\n",
       "      <th>1</th>\n",
       "      <td>Super Mario Bros.</td>\n",
       "      <td>NES</td>\n",
       "      <td>1985.0</td>\n",
       "      <td>Platform</td>\n",
       "      <td>29.08</td>\n",
       "      <td>3.58</td>\n",
       "      <td>6.81</td>\n",
       "      <td>0.77</td>\n",
       "      <td>NaN</td>\n",
       "      <td>NaN</td>\n",
       "      <td>NaN</td>\n",
       "    </tr>\n",
       "    <tr>\n",
       "      <th>2</th>\n",
       "      <td>Mario Kart Wii</td>\n",
       "      <td>Wii</td>\n",
       "      <td>2008.0</td>\n",
       "      <td>Racing</td>\n",
       "      <td>15.68</td>\n",
       "      <td>12.76</td>\n",
       "      <td>3.79</td>\n",
       "      <td>3.29</td>\n",
       "      <td>82.0</td>\n",
       "      <td>8.3</td>\n",
       "      <td>E</td>\n",
       "    </tr>\n",
       "    <tr>\n",
       "      <th>3</th>\n",
       "      <td>Wii Sports Resort</td>\n",
       "      <td>Wii</td>\n",
       "      <td>2009.0</td>\n",
       "      <td>Sports</td>\n",
       "      <td>15.61</td>\n",
       "      <td>10.93</td>\n",
       "      <td>3.28</td>\n",
       "      <td>2.95</td>\n",
       "      <td>80.0</td>\n",
       "      <td>8</td>\n",
       "      <td>E</td>\n",
       "    </tr>\n",
       "    <tr>\n",
       "      <th>4</th>\n",
       "      <td>Pokemon Red/Pokemon Blue</td>\n",
       "      <td>GB</td>\n",
       "      <td>1996.0</td>\n",
       "      <td>Role-Playing</td>\n",
       "      <td>11.27</td>\n",
       "      <td>8.89</td>\n",
       "      <td>10.22</td>\n",
       "      <td>1.00</td>\n",
       "      <td>NaN</td>\n",
       "      <td>NaN</td>\n",
       "      <td>NaN</td>\n",
       "    </tr>\n",
       "  </tbody>\n",
       "</table>\n",
       "</div>"
      ],
      "text/plain": [
       "                       Name Platform  Year of Release         Genre  NA sales  \\\n",
       "0                Wii Sports      Wii           2006.0        Sports     41.36   \n",
       "1         Super Mario Bros.      NES           1985.0      Platform     29.08   \n",
       "2            Mario Kart Wii      Wii           2008.0        Racing     15.68   \n",
       "3         Wii Sports Resort      Wii           2009.0        Sports     15.61   \n",
       "4  Pokemon Red/Pokemon Blue       GB           1996.0  Role-Playing     11.27   \n",
       "\n",
       "  EU sales JP sales  Other sales  Critic Score User Score Rating  \n",
       "0    28.96     3.77         8.45          76.0          8      E  \n",
       "1     3.58     6.81         0.77           NaN        NaN    NaN  \n",
       "2    12.76     3.79         3.29          82.0        8.3      E  \n",
       "3    10.93     3.28         2.95          80.0          8      E  \n",
       "4     8.89    10.22         1.00           NaN        NaN    NaN  "
      ]
     },
     "metadata": {},
     "output_type": "display_data"
    }
   ],
   "source": [
    "# Выводим первые строки датафрейма на экран\n",
    "display(df.head())"
   ]
  },
  {
   "cell_type": "markdown",
   "id": "26267bc0",
   "metadata": {
    "id": "26267bc0"
   },
   "source": [
    "## Выводы о полученных данных: объёмы и типы данных."
   ]
  },
  {
   "cell_type": "markdown",
   "id": "81651b8d",
   "metadata": {
    "id": "81651b8d"
   },
   "source": [
    "Датасет `hotel_dataset.csv` содержит 11 столбцов и 16956 строк с информацией о продажах игр разных жанров и платформ, а также о пользовательских и экспертных оценках.\n",
    "\n",
    "Изучим типы данных и их корректность:\n",
    "- **Булевые значения (bool).** Данные типа `bool` отсутствуют.\n",
    "- **Целочисленные значения (int64).** Данные типа `int64` отсутствуют.\n",
    "- **Числовые значения с плавающей запятой (float64).** 4 столбца с типом `float64`:\n",
    "    - `NA sales`, `Other sales`, `Critic Score` содержат продажи в Северной Америке, продажи в других странах и оценку критиков соответственно, и представлены типом `float64`, что корректно, т.к. данные могут иметь дробную часть. \n",
    "    - `Year of Release` содержит информацию о дате релиза. Для таких данных рекомендуется использовать тип `int64` для корректности временных вычислений и анализа периодов.\n",
    "- **Строковые данные (object).** Семь столбцов имеют тип данных `object`:\n",
    "    - `Name` и `Genre` содержат строковую информацию (название игры, название платформы и жанр), это верный тип для текстовых данных. Здесь тип данных `object` подходит.\n",
    "    - `EU sales`, `JP sales` и `User Score` имеют тип данных `object`, но хранят числовые данные с дробной частью, в связи с чем целесообразно использовать тип `float64`.\n",
    "    - `Rating`, `Platform`  и `Genre` также хранят текстовые данные, но их можно рассматривать как категориальный признак. В этом случае можно использовать тип `category`, чтобы улучшить производительность и оптимизировать память, если набор значений ограничен и заведомо известен.\\\n",
    "\n",
    "- В результате анализа типов данных можем сделать вывод, что большинство столбцов представлены некорректно. \n",
    "Необходимо преобразовать данные типа `float64`, содержащие год выхода игры, в тип `int64`, строковые данные, содержащие числовые показатели, преобразовать в тип `float64`. Также целесообразно преобразовать 3 столбца, приведя их к типу `category`. Также обратим внимание на неоднородность стиля названий колонок."
   ]
  },
  {
   "cell_type": "markdown",
   "id": "774bf76e",
   "metadata": {
    "id": "774bf76e"
   },
   "source": [
    "---\n",
    "\n",
    "## 2.  Проверка ошибок в данных и их предобработка\n",
    "\n",
    "\n",
    "### 2.1. Названия, или метки, столбцов датафрейма\n",
    "\n"
   ]
  },
  {
   "cell_type": "code",
   "execution_count": 5,
   "id": "b9276a2b",
   "metadata": {
    "id": "b9276a2b",
    "trusted": false
   },
   "outputs": [
    {
     "name": "stdout",
     "output_type": "stream",
     "text": [
      "Index(['Name', 'Platform', 'Year of Release', 'Genre', 'NA sales', 'EU sales',\n",
      "       'JP sales', 'Other sales', 'Critic Score', 'User Score', 'Rating'],\n",
      "      dtype='object')\n"
     ]
    }
   ],
   "source": [
    "# Выводим на экран названия всех столбцов датафрейма и проверяем их стиль написания.\n",
    "print(df.columns)"
   ]
  },
  {
   "cell_type": "code",
   "execution_count": 6,
   "id": "d554563c",
   "metadata": {
    "id": "d554563c",
    "trusted": false
   },
   "outputs": [],
   "source": [
    "# Приводим все столбцы к стилю snake case, названия переводим в нижний регистр, а пробелов заменим подчёркиванием.\n",
    "\n",
    "# df = df.rename(columns={'Name': 'name', 'Platform': 'platform', 'Year of Release': 'year_of_release', 'Genre': 'genre', 'NA sales': 'na_sales', \n",
    "# 'EU sales': 'eu_sales', 'JP sales': 'jp_sales', 'Other sales': 'other_sales', \n",
    "# 'Critic Score': 'critic_score', 'User Score': 'user_score', 'Rating': 'rating'})\n",
    "\n",
    "df.columns = df.columns.str.lower().str.replace(' ','_')"
   ]
  },
  {
   "cell_type": "code",
   "execution_count": 7,
   "id": "87b573dd",
   "metadata": {
    "id": "87b573dd",
    "trusted": false
   },
   "outputs": [
    {
     "name": "stdout",
     "output_type": "stream",
     "text": [
      "Index(['name', 'platform', 'year_of_release', 'genre', 'na_sales', 'eu_sales',\n",
      "       'jp_sales', 'other_sales', 'critic_score', 'user_score', 'rating'],\n",
      "      dtype='object')\n"
     ]
    }
   ],
   "source": [
    "# Проверяем результат преобразования.\n",
    "\n",
    "print(df.columns)"
   ]
  },
  {
   "cell_type": "markdown",
   "id": "41bc6bf8",
   "metadata": {
    "id": "41bc6bf8"
   },
   "source": [
    "### 2.2. Типы данных\n",
    "\n",
    "- В датафрейме встречаются некорректные типы данных, целесообразно провести преобразование некоторых типов данных. Помните, что столбцы с числовыми данными и пропусками нельзя преобразовать к типу `int64`. Сначала вам понадобится обработать пропуски, а затем преобразовать типы данных."
   ]
  },
  {
   "cell_type": "code",
   "execution_count": null,
   "id": "8adaac81",
   "metadata": {
    "id": "8adaac81",
    "trusted": false
   },
   "outputs": [],
   "source": [
    "# Преобразовываем типы\n",
    "\n",
    "# В некоторых числовых столбцах встречаются строковые значения. Приведем такие столбцы к числовому типу данных, заменив строковые значения на пропуски.\n",
    "\n",
    "df[['eu_sales', 'jp_sales','user_score']] = df[['eu_sales', 'jp_sales','user_score']].apply(pd.to_numeric, errors='coerce')\n",
    "\n",
    "df['year_of_release'] = df['year_of_release'].fillna(0)\n",
    "\n",
    "df['year_of_release'] = df['year_of_release'].astype('int64')\n",
    "\n",
    "# Преобразовываем числовому к типу:\n",
    "for column in ['eu_sales', 'jp_sales', 'user_score']:\n",
    "    df[column] = pd.to_numeric(df[column], downcast='integer')\n",
    "\n",
    "# Приводим столбец 'rating' к категориальному типу:\n",
    "df['rating'] = df['rating'].astype('category')\n",
    "df['genre'] = df['genre'].astype('category')\n",
    "df['platform'] = df['platform'].astype('category')\n"
   ]
  },
  {
   "cell_type": "code",
   "execution_count": 9,
   "id": "e8412c01",
   "metadata": {
    "id": "e8412c01",
    "trusted": false
   },
   "outputs": [
    {
     "name": "stdout",
     "output_type": "stream",
     "text": [
      "<class 'pandas.core.frame.DataFrame'>\n",
      "RangeIndex: 16956 entries, 0 to 16955\n",
      "Data columns (total 11 columns):\n",
      " #   Column           Non-Null Count  Dtype   \n",
      "---  ------           --------------  -----   \n",
      " 0   name             16954 non-null  object  \n",
      " 1   platform         16956 non-null  category\n",
      " 2   year_of_release  16956 non-null  int64   \n",
      " 3   genre            16954 non-null  category\n",
      " 4   na_sales         16956 non-null  float64 \n",
      " 5   eu_sales         16950 non-null  float64 \n",
      " 6   jp_sales         16952 non-null  float64 \n",
      " 7   other_sales      16956 non-null  float64 \n",
      " 8   critic_score     8242 non-null   float64 \n",
      " 9   user_score       7688 non-null   float64 \n",
      " 10  rating           10085 non-null  category\n",
      "dtypes: category(3), float64(6), int64(1), object(1)\n",
      "memory usage: 1.1+ MB\n",
      "None\n"
     ]
    }
   ],
   "source": [
    "# Проверяем изменения в типах данных\n",
    "print(df.info())"
   ]
  },
  {
   "cell_type": "markdown",
   "id": "b39893cb",
   "metadata": {
    "id": "b39893cb"
   },
   "source": [
    "### 2.3. Наличие пропусков в данных\n",
    "\n",
    "- Посчитаем количество пропусков в каждом столбце в абсолютных и относительных значениях.\n"
   ]
  },
  {
   "cell_type": "code",
   "execution_count": 10,
   "id": "0f1c91a8",
   "metadata": {
    "id": "0f1c91a8",
    "trusted": false
   },
   "outputs": [
    {
     "data": {
      "text/plain": [
       "name                  2\n",
       "platform              0\n",
       "year_of_release       0\n",
       "genre                 2\n",
       "na_sales              0\n",
       "eu_sales              6\n",
       "jp_sales              4\n",
       "other_sales           0\n",
       "critic_score       8714\n",
       "user_score         9268\n",
       "rating             6871\n",
       "dtype: int64"
      ]
     },
     "execution_count": 10,
     "metadata": {},
     "output_type": "execute_result"
    }
   ],
   "source": [
    "# Количество пропущенных строк в датафрейме (абсолютные значения)\n",
    "df.isna().sum()"
   ]
  },
  {
   "cell_type": "code",
   "execution_count": 11,
   "id": "86cd1cc1",
   "metadata": {
    "id": "86cd1cc1",
    "trusted": false
   },
   "outputs": [
    {
     "data": {
      "text/plain": [
       "name                0.011795\n",
       "platform            0.000000\n",
       "year_of_release     0.000000\n",
       "genre               0.011795\n",
       "na_sales            0.000000\n",
       "eu_sales            0.035386\n",
       "jp_sales            0.023590\n",
       "other_sales         0.000000\n",
       "critic_score       51.391838\n",
       "user_score         54.659118\n",
       "rating             40.522529\n",
       "dtype: float64"
      ]
     },
     "execution_count": 11,
     "metadata": {},
     "output_type": "execute_result"
    }
   ],
   "source": [
    "# Процент строк с пропусками (относительные значения)\n",
    "df.isna().sum() / len(df) * 100"
   ]
  },
  {
   "cell_type": "markdown",
   "id": "bd69e642",
   "metadata": {
    "id": "bd69e642"
   },
   "source": [
    "В данных наблюдаются пропуски в следующих столбцах:\n",
    "- В столбцах `name` и `genre` нехватка данных минимальна (менее 1%). В столбце `year_of_release` пропуски также незначительны (1.6%)\n",
    "- Столбцы `critic_score`, `user_score` и `rating` имеют значительное количество пропусков (более 40%).\n",
    "\n",
    "Пропуски в данных могли возникнуть по следующим причинам:\n",
    "- технические ограничения платформ, например, отсутствие возможности поставить пользовательскую оценку на определенных платформах\n",
    "- возможные технические ошибки общего характера, например при парсинге, объединении таблиц и пр.\n",
    "- задержка публикаций рецензий критиков\n",
    "- возраст игр - часть игр ранних выпусков могли не получать ESRB оценок\n",
    "- возможные региональные несоответствия"
   ]
  },
  {
   "cell_type": "markdown",
   "id": "bbbe3bda",
   "metadata": {
    "id": "bbbe3bda"
   },
   "source": [
    "### Обработка пропущенных значений. \n",
    "- Для каждого случая выберем оптимальный вариант замены: замена на определённое значение, удаление или оставляем прежнее значение.\n",
    "- При замене пропусков на значение-индикатор, убедимся, что предложенное значение не может быть использовано в данных.\n",
    "- При наличии пропусков в данных с количеством проданных копий игры в том или ином регионе, их можно заменить на среднее значение в зависимости от названия платформы и года выхода игры."
   ]
  },
  {
   "cell_type": "markdown",
   "id": "154be65d",
   "metadata": {
    "id": "154be65d"
   },
   "source": [
    "- Столбец `critic_score`: в более чем 50% данных отсутствует информация об оценках критиков. Удалять и заменять средним нецелесообразно, поэтому оставляем в исходном виде.\n",
    "- Столбец `user_score`: 40.1% данных содержат пропуски. Удалять и заменять средним нецелесообразно, поэтому оставляем в исходном виде.\n",
    "- Столбец `name`: 0.011% данных содержат пропуски. Заменяем пропуски индикатором с помощью метода `fillna('Название отсутствует')`.\n",
    "- Столбец `year_of_release`: `year_of_release` заменяем пропуски индикатором с помощью метода `fillna(0)`."
   ]
  },
  {
   "cell_type": "code",
   "execution_count": 12,
   "id": "3f42817b",
   "metadata": {
    "id": "3f42817b",
    "trusted": false
   },
   "outputs": [],
   "source": [
    "# заполняем пропуски:\n",
    "\n",
    "df['name'] = df['name'].fillna('Название отсутствует')\n",
    "df['user_score'] = df['user_score'].replace({'unknown': 'NaN', 'tbd': 'NaN'})\n",
    "\n",
    "# заполним пропуски в 'eu_sales' средним с группировкой по году выпуска и платформе:\n",
    "\n",
    "def mean_group_eu_sales(row):\n",
    "    if pd.isna(row['eu_sales']):\n",
    "        group = df[(df['year_of_release'] == row['year_of_release']) & \n",
    "                   (df['platform'] == row['platform'])]\n",
    "        return group['eu_sales'].mean()\n",
    "    else:\n",
    "        return row['eu_sales']\n",
    "\n",
    "df['eu_sales'] = df.apply(mean_group_eu_sales, axis=1)\n",
    "\n",
    "# аналогично поступим с пропусками в 'jp_sales':\n",
    "\n",
    "def mean_group_jp_sales(row):\n",
    "    if pd.isna(row['jp_sales']):\n",
    "        group = df[(df['year_of_release'] == row['year_of_release']) & \n",
    "                   (df['platform'] == row['platform'])]\n",
    "        return group['jp_sales'].mean()\n",
    "    else:\n",
    "        return row['jp_sales']\n",
    "\n",
    "df['jp_sales'] = df.apply(mean_group_jp_sales, axis=1)"
   ]
  },
  {
   "cell_type": "markdown",
   "id": "a63363fd",
   "metadata": {
    "id": "a63363fd"
   },
   "source": [
    "### 2.4. Явные и неявные дубликаты в данных\n"
   ]
  },
  {
   "cell_type": "code",
   "execution_count": 13,
   "id": "f1627198",
   "metadata": {
    "id": "f1627198",
    "trusted": false
   },
   "outputs": [],
   "source": [
    "# Приведем текстовые данные столбцов 'name', 'rating', 'genre' и 'platform' к одному регистру с помощью метода 'str.lower()'. \n",
    "# Это поможет избежать ситуаций, когда одно и то же значение записано по-разному.\n",
    "df['name'] = df['name'].str.lower()\n",
    "df['rating'] = df['rating'].str.lower()\n",
    "df['genre'] = df['genre'].str.lower()\n",
    "df['platform'] = df['platform'].str.lower()"
   ]
  },
  {
   "cell_type": "code",
   "execution_count": 14,
   "id": "a0cac80c",
   "metadata": {
    "id": "a0cac80c",
    "trusted": false
   },
   "outputs": [],
   "source": [
    "# Также избавимся от лишних пробелов в начале и в конце строки с помощью метода 'str.strip()':\n",
    "df['name'] = df['name'].str.strip()\n",
    "df['rating'] = df['rating'].str.strip()\n",
    "df['genre'] = df['genre'].str.strip()\n",
    "df['platform'] = df['platform'].str.strip()"
   ]
  },
  {
   "cell_type": "code",
   "execution_count": 15,
   "id": "a75d884c",
   "metadata": {
    "trusted": false
   },
   "outputs": [
    {
     "name": "stdout",
     "output_type": "stream",
     "text": [
      "Уникальные имена: ['wii sports' 'super mario bros.' 'mario kart wii' ...\n",
      " 'woody woodpecker in crazy castle 5' 'lma manager 2007'\n",
      " 'haitaka no psychedelica']\n",
      "\n",
      "Уникальные жанры: ['sports' 'platform' 'racing' 'role-playing' 'puzzle' 'misc' 'shooter'\n",
      " 'simulation' 'action' 'fighting' 'adventure' 'strategy' nan]\n",
      "\n",
      "Уникальный рейтинг: ['e' nan 'm' 't' 'e10+' 'k-a' 'ao' 'ec' 'rp']\n",
      "\n",
      "Уникальные платформы: ['wii' 'nes' 'gb' 'ds' 'x360' 'ps3' 'ps2' 'snes' 'gba' 'ps4' '3ds' 'n64'\n",
      " 'ps' 'xb' 'pc' '2600' 'psp' 'xone' 'wiiu' 'gc' 'gen' 'dc' 'psv' 'sat'\n",
      " 'scd' 'ws' 'ng' 'tg16' '3do' 'gg' 'pcfx']\n"
     ]
    }
   ],
   "source": [
    "unique_df_names = df['name'].unique()\n",
    "print(f'Уникальные имена: {unique_df_names}')\n",
    "print()\n",
    "unique_df_genres = df['genre'].unique()\n",
    "print(f'Уникальные жанры: {unique_df_genres}')\n",
    "print()\n",
    "unique_df_rate = df['rating'].unique()\n",
    "print(f'Уникальный рейтинг: {unique_df_rate}')\n",
    "print()\n",
    "unique_df_platform = df['platform'].unique()\n",
    "print(f'Уникальные платформы: {unique_df_platform}')"
   ]
  },
  {
   "cell_type": "markdown",
   "id": "fc3d3db4",
   "metadata": {
    "id": "fc3d3db4"
   },
   "source": [
    "### После того как нормализовали данные и устранили неявные дубликаты, проверяем наличие явных дубликатов в данных."
   ]
  },
  {
   "cell_type": "code",
   "execution_count": 16,
   "id": "fc5c91b5",
   "metadata": {
    "id": "fc5c91b5",
    "trusted": false
   },
   "outputs": [
    {
     "name": "stdout",
     "output_type": "stream",
     "text": [
      "Количество строк до удаления дубликатов: 16956\n",
      "Дублирующиеся строки:\n",
      "                                                name platform  \\\n",
      "268                            batman: arkham asylum      ps3   \n",
      "368                 james bond 007: agent under fire      ps2   \n",
      "717                            god of war: ascension      ps3   \n",
      "823                                wipeout: the game      wii   \n",
      "848                  rayman raving rabbids: tv party      wii   \n",
      "...                                              ...      ...   \n",
      "16671        fullmetal alchemist: prince of the dawn      wii   \n",
      "16753                                      routes pe      ps2   \n",
      "16799                            transformers: prime      wii   \n",
      "16912  metal gear solid v: the definitive experience     xone   \n",
      "16940                          the longest 5 minutes      psv   \n",
      "\n",
      "       year_of_release      genre  na_sales  eu_sales  jp_sales  other_sales  \\\n",
      "268               2009     action      2.24      1.31      0.07         0.61   \n",
      "368               2001    shooter      1.90      1.13      0.10         0.41   \n",
      "717               2013     action      1.23      0.63      0.04         0.35   \n",
      "823               2009       misc      1.94      0.00      0.00         0.12   \n",
      "848               2008       misc      0.72      1.08      0.00         0.23   \n",
      "...                ...        ...       ...       ...       ...          ...   \n",
      "16671             2009  adventure      0.00      0.00      0.01         0.00   \n",
      "16753             2007  adventure      0.00      0.00      0.01         0.00   \n",
      "16799             2012     action      0.00      0.01      0.00         0.00   \n",
      "16912             2016     action      0.01      0.00      0.00         0.00   \n",
      "16940             2016     action      0.00      0.00      0.01         0.00   \n",
      "\n",
      "       critic_score  user_score rating  \n",
      "268            91.0         8.9      t  \n",
      "368            72.0         7.9      t  \n",
      "717            80.0         7.5      m  \n",
      "823             NaN         NaN    NaN  \n",
      "848            73.0         7.7   e10+  \n",
      "...             ...         ...    ...  \n",
      "16671           NaN         NaN    NaN  \n",
      "16753           NaN         NaN    NaN  \n",
      "16799           NaN         NaN    NaN  \n",
      "16912           NaN         NaN      m  \n",
      "16940           NaN         NaN    NaN  \n",
      "\n",
      "[241 rows x 11 columns]\n",
      "\n",
      "Количество строк после удаления дубликатов: 16715\n",
      "\n",
      "Дублирующихся строк: 241\n",
      "Доля дублирующихся строк: 0.0142\n",
      "Дублирующихся строк после обработки: 0\n"
     ]
    }
   ],
   "source": [
    "# Проверяем и обрабатываем явные дубликаты:\n",
    "\n",
    "initial_row_count = df.shape[0]\n",
    "print(f'Количество строк до удаления дубликатов: {initial_row_count}')\n",
    "\n",
    "duplicates = df[df.duplicated(keep='first')]\n",
    "print(\"Дублирующиеся строки:\")\n",
    "print(duplicates)\n",
    "\n",
    "# Удаляем дублирующиеся строки:\n",
    "df_cleaned = df.drop_duplicates()\n",
    "\n",
    "# Количество строк после удаления дубликатов:\n",
    "final_row_count = df_cleaned.shape[0]\n",
    "print()\n",
    "print(f'Количество строк после удаления дубликатов: {final_row_count}')\n",
    "print()\n",
    "\n",
    "# Проверим количество дублирующихся строк после удаления:\n",
    "print(f'Дублирующихся строк: {df.duplicated().sum()}')\n",
    "print(f'Доля дублирующихся строк: {round(df.duplicated().sum()/initial_row_count, 4)}')\n",
    "print(f'Дублирующихся строк после обработки: {df_cleaned.duplicated().sum()}')"
   ]
  },
  {
   "cell_type": "markdown",
   "id": "54616bae",
   "metadata": {
    "id": "54616bae"
   },
   "source": [
    "### Промежуточный вывод о найденных дубликатах и действиях по их обработке."
   ]
  },
  {
   "cell_type": "markdown",
   "id": "0814c721",
   "metadata": {
    "id": "0814c721"
   },
   "source": [
    "- Мы изучили уникальные значения в данных, в том числе названиями жанра игры, платформы, рейтинга.\n",
    "- Провели нормализацию данных с текстовыми значениями.\n",
    "- В целях выявления неявных дубликатов, привели текстовые данные столбцов `name`, `rating`, `genre` и `platform` к нижнему регистру с помощью метода `str.lower()`.\n",
    "- Также избавились от лишних пробелов в начале и в конце строки с помощью метода `str.strip()`\n",
    "- Используя метод `unique()`, определили уникальные значения в столбцах.\n",
    "- Используя метод `duplicated()`, мы определили явные дублирующиеся строки. Выявлена 241 дублирующаяся строка.\n",
    "- Используя метод `drop_duplicates()` мы удалили дибликаты в датафрейме.\n",
    "- Используя метод `duplicated().sum()` проверяем результат очистки датафрейма от дублирующихся строк.\n",
    "- В процессе подготовки данных мы выполнили удаление строк с пропусками, дубликаты и прочее. После чего проверили количество удалённых строк в абсолютном и относительном значениях.\n",
    "- Доля дублирующихся строк составила 0.0142. Все дубликаты были удалены.\n",
    "---\n",
    "- Отдельно отметим, что за всю предобработку мы лишились незначительной части данных `(менее 1%)`, включая удаление дубликатов `(доля от всех строк - 0.0142)` и строк с пропусками `(пропуски были заменены - без удалений)`. `Данный показатель посчитаем приемлемым`, если потеря данных менее, чем 10%. "
   ]
  },
  {
   "cell_type": "markdown",
   "id": "613f0eb0",
   "metadata": {
    "id": "613f0eb0"
   },
   "source": [
    "---\n",
    "\n",
    "## 3. Фильтрация данных\n",
    "\n",
    "Коллеги хотят изучить историю продаж игр в начале XXI века, и их интересует период с 2000 по 2013 год включительно. \\\n",
    "Отберем данные по этому показателю. Сохраним новый срез данных в отдельном датафрейме - `df_actual`."
   ]
  },
  {
   "cell_type": "code",
   "execution_count": 17,
   "id": "2344916d",
   "metadata": {
    "id": "2344916d",
    "trusted": false
   },
   "outputs": [
    {
     "name": "stdout",
     "output_type": "stream",
     "text": [
      "                                                   name platform  \\\n",
      "0                                            wii sports      wii   \n",
      "2                                        mario kart wii      wii   \n",
      "3                                     wii sports resort      wii   \n",
      "6                                 new super mario bros.       ds   \n",
      "7                                              wii play      wii   \n",
      "...                                                 ...      ...   \n",
      "16947                     men in black ii: alien escape       gc   \n",
      "16949                woody woodpecker in crazy castle 5      gba   \n",
      "16950  score international baja 1000: the official game      ps2   \n",
      "16952                                  lma manager 2007     x360   \n",
      "16954                                  spirits & spells      gba   \n",
      "\n",
      "       year_of_release     genre  na_sales  eu_sales  jp_sales  other_sales  \\\n",
      "0                 2006    sports     41.36     28.96      3.77         8.45   \n",
      "2                 2008    racing     15.68     12.76      3.79         3.29   \n",
      "3                 2009    sports     15.61     10.93      3.28         2.95   \n",
      "6                 2006  platform     11.28      9.14      6.50         2.88   \n",
      "7                 2006      misc     13.96      9.18      2.93         2.84   \n",
      "...                ...       ...       ...       ...       ...          ...   \n",
      "16947             2003   shooter      0.01      0.00      0.00         0.00   \n",
      "16949             2002  platform      0.01      0.00      0.00         0.00   \n",
      "16950             2008    racing      0.00      0.00      0.00         0.00   \n",
      "16952             2006    sports      0.00      0.01      0.00         0.00   \n",
      "16954             2003  platform      0.01      0.00      0.00         0.00   \n",
      "\n",
      "       critic_score  user_score rating  \n",
      "0              76.0         8.0      e  \n",
      "2              82.0         8.3      e  \n",
      "3              80.0         8.0      e  \n",
      "6              89.0         8.5      e  \n",
      "7              58.0         6.6      e  \n",
      "...             ...         ...    ...  \n",
      "16947           NaN         NaN      t  \n",
      "16949           NaN         NaN    NaN  \n",
      "16950           NaN         NaN    NaN  \n",
      "16952           NaN         NaN    NaN  \n",
      "16954           NaN         NaN    NaN  \n",
      "\n",
      "[12431 rows x 11 columns]\n"
     ]
    }
   ],
   "source": [
    "df_actual =  df_cleaned[(df_cleaned['year_of_release'] > 2000) & (df_cleaned['year_of_release'] <= 2013)]\n",
    "print(df_actual)"
   ]
  },
  {
   "cell_type": "markdown",
   "id": "a6f10b01",
   "metadata": {
    "id": "a6f10b01"
   },
   "source": [
    "---\n",
    "\n",
    "## 4. Категоризация данных\n",
    "    \n",
    "Проводим категоризацию данных:\n",
    "- Разделяем все игры по оценкам пользователей и выделяем такие категории: высокая оценка (от 8 до 10 включительно), средняя оценка (от 3 до 8, не включая правую границу интервала) и низкая оценка (от 0 до 3, не включая правую границу интервала)."
   ]
  },
  {
   "cell_type": "code",
   "execution_count": 18,
   "id": "3db87229",
   "metadata": {
    "id": "3db87229",
    "trusted": false
   },
   "outputs": [],
   "source": [
    "df_actual['user_score_categ'] = pd.cut(df_actual['user_score'], bins=[0, 2, 7, 10], labels=['Низкая оценка', 'Средняя оценка', 'Высокая оценка'])"
   ]
  },
  {
   "cell_type": "markdown",
   "id": "f8f34b40",
   "metadata": {
    "id": "f8f34b40"
   },
   "source": [
    "- Разделите все игры по оценкам критиков и выделите такие категории: высокая оценка (от 80 до 100 включительно), средняя оценка (от 30 до 80, не включая правую границу интервала) и низкая оценка (от 0 до 30, не включая правую границу интервала)."
   ]
  },
  {
   "cell_type": "code",
   "execution_count": 19,
   "id": "e3f7acb0",
   "metadata": {
    "id": "e3f7acb0",
    "trusted": false
   },
   "outputs": [],
   "source": [
    "df_actual['critic_score_categ'] = pd.cut(df_actual['critic_score'], bins=[0, 29, 79, 100], labels=['Низкая оценка', 'Средняя оценка', 'Высокая оценка'])"
   ]
  },
  {
   "cell_type": "markdown",
   "id": "d136d06b",
   "metadata": {
    "id": "d136d06b"
   },
   "source": [
    "### Группируем данные по категориям"
   ]
  },
  {
   "cell_type": "code",
   "execution_count": 20,
   "id": "HW0Nsp-4UMSL",
   "metadata": {
    "id": "HW0Nsp-4UMSL",
    "trusted": false
   },
   "outputs": [
    {
     "name": "stdout",
     "output_type": "stream",
     "text": [
      "user_score_categ\n",
      "Низкая оценка       45\n",
      "Средняя оценка    2322\n",
      "Высокая оценка    4008\n",
      "Name: name, dtype: int64\n"
     ]
    }
   ],
   "source": [
    "# Группируем данные по оценкам игроков и считаем количество игр в каждой категории:\n",
    "\n",
    "total_by_user_cat = df_actual.groupby('user_score_categ')['name'].count()\n",
    "print(total_by_user_cat)"
   ]
  },
  {
   "cell_type": "code",
   "execution_count": 21,
   "id": "x2ne0HIpUMMD",
   "metadata": {
    "id": "x2ne0HIpUMMD",
    "trusted": false
   },
   "outputs": [
    {
     "name": "stdout",
     "output_type": "stream",
     "text": [
      "critic_score_categ\n",
      "Низкая оценка       52\n",
      "Средняя оценка    5320\n",
      "Высокая оценка    1654\n",
      "Name: name, dtype: int64\n"
     ]
    }
   ],
   "source": [
    "# Группируем данные по оценкам критиков и считаем количество игр в каждой категории:\n",
    "\n",
    "total_by_critic_cat = df_actual.groupby('critic_score_categ')['name'].count()\n",
    "print(total_by_critic_cat)"
   ]
  },
  {
   "cell_type": "markdown",
   "id": "6a98444c",
   "metadata": {
    "id": "6a98444c"
   },
   "source": [
    "### Выделим топ-7 платформ по количеству игр, выпущенных за весь актуальный период."
   ]
  },
  {
   "cell_type": "code",
   "execution_count": 22,
   "id": "003caa2c",
   "metadata": {
    "id": "003caa2c",
    "trusted": false
   },
   "outputs": [
    {
     "name": "stdout",
     "output_type": "stream",
     "text": [
      "platform\n",
      "ds      2120\n",
      "ps2     2045\n",
      "wii     1275\n",
      "psp     1180\n",
      "x360    1121\n",
      "ps3     1087\n",
      "gba      810\n",
      "Name: name, dtype: int64\n"
     ]
    }
   ],
   "source": [
    "total_by_plat = df_actual.groupby('platform')['name'].count().sort_values(ascending=False).head(7)\n",
    "print(total_by_plat)\n"
   ]
  },
  {
   "cell_type": "markdown",
   "id": "c0158881",
   "metadata": {
    "id": "c0158881"
   },
   "source": [
    "---\n",
    "\n",
    "## 5. Итоговый вывод\n"
   ]
  },
  {
   "cell_type": "markdown",
   "id": "20175f5b",
   "metadata": {
    "id": "20175f5b"
   },
   "source": [
    "Были загружены данные датасета `hotel_dataset.csv`. Датасет содержит 11 столбцов и 16956 строк с информацией о продажах игр разных жанров и платформ, а также о пользовательских и экспертных оценках. При первичном знакомстве с данными и их предобработке получили такие результаты:\n",
    "- В шести столбцах были обнаружены пропущенные значения. Максимальное значение пропущенных данных в столбце `critic_score` (51.4%).\n",
    "- Для оптимизации работы с данными в датафрейме были произведены следующие изменения типов данных:\n",
    "    - Столбцы `rating`, `genre`, `platform` привели к типу `category`.\n",
    "    - Тип данных столбца `year_of_release` заменили на `int64`.\n",
    "    - Столбцы `eu_sales`, `jp_sales`, `user_score` привели к целочисленному типу `float64`.\n",
    "- Для дополнительной работы с данными были созданы дополнительные столбцы:\n",
    "    - `user_score_categ`: столбец необходим для разделения всех игр на категории по оценкам игроков.\n",
    "    - `critic_score_categ`: столбец необходим для разделения всех игр на категории по оценкам критиков.\\\n",
    "  Наибольшее количество игр в по оценкам игроков имеет `высокую оценку`, в то время как критики дают большинству игр `среднюю оценку`.\n",
    "- Используя группировку данных по платформе, сортировку по убыванию, а также органичение выборки семью строками, мы получили выборку `топ-7 платформ по количеству игр, выпущенных за весь актуальный период`."
   ]
  }
 ],
 "metadata": {
  "ExecuteTimeLog": [
   {
    "duration": 425,
    "start_time": "2025-05-11T09:19:13.051Z"
   },
   {
    "duration": 3,
    "start_time": "2025-05-11T09:19:24.950Z"
   },
   {
    "duration": 77,
    "start_time": "2025-05-11T09:19:24.955Z"
   }
  ],
  "colab": {
   "provenance": []
  },
  "kernelspec": {
   "display_name": "Python 3",
   "language": "python",
   "name": "python3"
  },
  "language_info": {
   "codemirror_mode": {
    "name": "ipython",
    "version": 3
   },
   "file_extension": ".py",
   "mimetype": "text/x-python",
   "name": "python",
   "nbconvert_exporter": "python",
   "pygments_lexer": "ipython3",
   "version": "3.9.6"
  },
  "toc": {
   "base_numbering": 1,
   "nav_menu": {},
   "number_sections": true,
   "sideBar": true,
   "skip_h1_title": true,
   "title_cell": "Table of Contents",
   "title_sidebar": "Contents",
   "toc_cell": false,
   "toc_position": {},
   "toc_section_display": true,
   "toc_window_display": false
  }
 },
 "nbformat": 4,
 "nbformat_minor": 5
}
